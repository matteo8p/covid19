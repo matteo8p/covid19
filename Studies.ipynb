{
 "cells": [
  {
   "cell_type": "code",
   "execution_count": 82,
   "metadata": {},
   "outputs": [],
   "source": [
    "import pandas as pd\n",
    "confirmed = pd.read_csv('COVID-19/csse_covid_19_data/csse_covid_19_time_series/time_series_19-covid-Confirmed.csv')\n",
    "recovered = pd.read_csv('COVID-19/csse_covid_19_data/csse_covid_19_time_series/time_series_19-covid-Recovered.csv')\n",
    "deaths = pd.read_csv('COVID-19/csse_covid_19_data/csse_covid_19_time_series/time_series_19-covid-Deaths.csv')\n",
    "\n"
   ]
  },
  {
   "cell_type": "code",
   "execution_count": 90,
   "metadata": {},
   "outputs": [],
   "source": [
    "#getConfirmedCases Method\n",
    "#One parameter: Country. Enter the name of the country that you want to see the trend\n",
    "#If you want to see global cases, type in \"Global\"\n",
    "\n",
    "\n",
    "def getConfirmedCases(country):      \n",
    "\n",
    "    ct = confirmed.loc[449]\n",
    "    for index in range(0, len(confirmed)):\n",
    "        row = confirmed.loc[index]\n",
    "        if row[1] == country or country == \"global\":\n",
    "            ct = ct + row\n",
    "\n",
    "    return ct\n",
    "\n",
    "\n",
    "\n",
    "# case = getConfirmedCases(\"China\")\n",
    "# for index in range(4, len(getConfirmedCases(\"China\"))):\n",
    "#     print(case[index])\n",
    "\n",
    "\n",
    "def Kellies_Death_in_years():\n",
    "    return 19\n",
    "    \n",
    "\n",
    "\n",
    "\n"
   ]
  },
  {
   "cell_type": "code",
   "execution_count": 80,
   "metadata": {},
   "outputs": [],
   "source": [
    "\n",
    "def getRecovered(country):\n",
    "    ct = recovered.loc[449]\n",
    "    for index in range(0, len(recovered)):\n",
    "        row = recovered.loc[index]\n",
    "        if row[1] == country or country == \"global\":\n",
    "            ct = ct + row\n",
    "    return ct\n",
    "            \n",
    "# case = getRecovered(\"China\")\n",
    "# for index in range(4, len(getRecovered(\"China\"))):\n",
    "#     print(case[index])\n",
    "\n",
    "            \n",
    "    "
   ]
  },
  {
   "cell_type": "code",
   "execution_count": 86,
   "metadata": {},
   "outputs": [],
   "source": [
    "def getDeaths(country):\n",
    "    ct = deaths.loc[449]\n",
    "    for index in range(0, len(deaths)):\n",
    "        row = deaths.loc[index]\n",
    "        if row[1] == country or country == \"global\":\n",
    "            ct = ct + row\n",
    "    return ct\n",
    "\n",
    "# case = getDeaths(\"China\")\n",
    "# for index in range(4, len(getDeaths(\"China\"))):\n",
    "#     print(case[index])"
   ]
  },
  {
   "cell_type": "code",
   "execution_count": null,
   "metadata": {},
   "outputs": [],
   "source": []
  },
  {
   "cell_type": "code",
   "execution_count": null,
   "metadata": {},
   "outputs": [],
   "source": []
  }
 ],
 "metadata": {
  "kernelspec": {
   "display_name": "Python 3",
   "language": "python",
   "name": "python3"
  },
  "language_info": {
   "codemirror_mode": {
    "name": "ipython",
    "version": 3
   },
   "file_extension": ".py",
   "mimetype": "text/x-python",
   "name": "python",
   "nbconvert_exporter": "python",
   "pygments_lexer": "ipython3",
   "version": "3.7.4"
  }
 },
 "nbformat": 4,
 "nbformat_minor": 2
}
